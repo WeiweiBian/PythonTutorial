{
  "nbformat": 4,
  "nbformat_minor": 0,
  "metadata": {
    "colab": {
      "name": "KarolinskaTutorial-Colab.ipynb",
      "provenance": [],
      "collapsed_sections": [],
      "include_colab_link": true
    },
    "kernelspec": {
      "name": "python3",
      "display_name": "Python 3"
    }
  },
  "cells": [
    {
      "cell_type": "markdown",
      "metadata": {
        "id": "view-in-github",
        "colab_type": "text"
      },
      "source": [
        "<a href=\"https://colab.research.google.com/github/mnikolop/PythonTutorial/blob/master/KarolinskaTutorial-Colab.ipynb\" target=\"_parent\"><img src=\"https://colab.research.google.com/assets/colab-badge.svg\" alt=\"Open In Colab\"/></a>"
      ]
    },
    {
      "cell_type": "markdown",
      "metadata": {
        "id": "qqwddAks3rvN",
        "colab_type": "text"
      },
      "source": [
        "# Python \n",
        "\n",
        "Python is an interpreted, high-level, general-purpose programming language.    \n",
        "Can be used for almost anything.   \n",
        "We are using it for data analysis.    \n",
        "Main library used in data analysis is pandas.   \n",
        "There used to be 2 version python2 (or python) and python 3. Since January 1st Python 2 has been depricated so we are only using python 3.\n",
        "\n",
        "## Main Resource\n",
        "- [python](https://www.python.org/)\n",
        "- [stackoverflow](https://stackoverflow.com/)\n",
        "- [pandas documentation](https://pandas.pydata.org/pandas-docs/stable/)\n",
        "- [toward data science](https://towardsdatascience.com/)\n",
        "\n",
        "## Editors\n",
        "\n",
        "Editors can be IDEs, text editors or notbooks.\n",
        "- [Anaconda]: deployment environment\n",
        "  - [Jupyter]: notebook\n",
        "- [VS Code]: text editor\n",
        "- [PyCharm]: IDE\n",
        "- [Google Colab]: notebook\n",
        "\n",
        "\n",
        "\n",
        "\n"
      ]
    },
    {
      "cell_type": "markdown",
      "metadata": {
        "id": "gkxxrL_SRLLF",
        "colab_type": "text"
      },
      "source": [
        "# Libraries\n",
        "Libraries can contain datasets, tools, graphics, processes, functions and so on.\n",
        "They are basically what makes a language powerfull.\n",
        "\n",
        "A lot of the libraries come pre-instaled in the environments so we can just load them. If they are not we have to install them like below.\n",
        "\n",
        "\n",
        "Note: it is possible but not common that libraries have (slightly) different names for anaconda, only exist for anaconda or don't exist for it. \n",
        "\n",
        "---\n",
        "\n",
        "It is possible to run command lines from a notebook.\n",
        "Some notebooks also allow other languages to be mixed in as long as they are in seperate cells and you specify the language (and of course it is suported)."
      ]
    },
    {
      "cell_type": "code",
      "metadata": {
        "id": "ZgrlPDQskW-y",
        "colab_type": "code",
        "outputId": "bfec1055-20e4-4713-d742-1d6357a253a4",
        "colab": {
          "base_uri": "https://localhost:8080/",
          "height": 168
        }
      },
      "source": [
        "# Install libraries\n",
        "!pip install gapminder\n",
        "!pip install -U -q PyDrive"
      ],
      "execution_count": 1,
      "outputs": [
        {
          "output_type": "stream",
          "text": [
            "Collecting gapminder\n",
            "  Downloading https://files.pythonhosted.org/packages/85/83/57293b277ac2990ea1d3d0439183da8a3466be58174f822c69b02e584863/gapminder-0.1-py3-none-any.whl\n",
            "Requirement already satisfied: pandas in /usr/local/lib/python3.6/dist-packages (from gapminder) (0.25.3)\n",
            "Requirement already satisfied: pytz>=2017.2 in /usr/local/lib/python3.6/dist-packages (from pandas->gapminder) (2018.9)\n",
            "Requirement already satisfied: numpy>=1.13.3 in /usr/local/lib/python3.6/dist-packages (from pandas->gapminder) (1.17.4)\n",
            "Requirement already satisfied: python-dateutil>=2.6.1 in /usr/local/lib/python3.6/dist-packages (from pandas->gapminder) (2.6.1)\n",
            "Requirement already satisfied: six>=1.5 in /usr/local/lib/python3.6/dist-packages (from python-dateutil>=2.6.1->pandas->gapminder) (1.12.0)\n",
            "Installing collected packages: gapminder\n",
            "Successfully installed gapminder-0.1\n"
          ],
          "name": "stdout"
        }
      ]
    },
    {
      "cell_type": "code",
      "metadata": {
        "id": "2j0WhVjJdF0a",
        "colab_type": "code",
        "colab": {}
      },
      "source": [
        "#Import libraries\n",
        "import numpy as np #basic scientific computation \n",
        "import pandas as pd #for data science\n",
        "from gapminder import gapminder #dataset\n",
        "import matplotlib.pyplot as plt #ploting \n",
        "import seaborn as sns; sns.set_style(\"darkgrid\") #ploting\n",
        "my_dpi=96 #dots per inch. Used in the size of the plots\n",
        "\n",
        "\n",
        "#Libraries for reading from the drive\n",
        "from pydrive.auth import GoogleAuth #Google authwntication library\n",
        "from pydrive.drive import GoogleDrive #Google drive library\n",
        "from google.colab import auth #Google colab auth library\n",
        "from google.colab import files #Google colab filesystem library\n",
        "import gspread #google sheets library \n",
        "from oauth2client.client import GoogleCredentials #Google credentials library\n",
        "import io #google io library\n",
        "\n"
      ],
      "execution_count": 0,
      "outputs": []
    },
    {
      "cell_type": "code",
      "metadata": {
        "id": "5-VgA_-v530o",
        "colab_type": "code",
        "colab": {}
      },
      "source": [
        "# Authenticate and create the PyDrive client.\n",
        "auth.authenticate_user() #creat the authenticated user\n",
        "gauth = GoogleAuth() #create the authentication\n",
        "gauth.credentials = GoogleCredentials.get_application_default() #assign credentials\n",
        "drive = GoogleDrive(gauth) #set authentication"
      ],
      "execution_count": 0,
      "outputs": []
    },
    {
      "cell_type": "markdown",
      "metadata": {
        "id": "lOSgm9cHk4jp",
        "colab_type": "text"
      },
      "source": [
        "# Datasets\n",
        "Data frames are sets of data in a \"table\" format. \n",
        "They come with a multitude of operations and functions they can be performed on them.\n",
        "\n",
        "## Loading datasets\n",
        "- Library\n",
        "- Sample dataset\n",
        "- File\n",
        "- Online\n"
      ]
    },
    {
      "cell_type": "code",
      "metadata": {
        "id": "xFoExlJs463x",
        "colab_type": "code",
        "outputId": "f4ae8fdd-865c-4dca-d0c2-b26c61674f02",
        "colab": {
          "base_uri": "https://localhost:8080/",
          "height": 34
        }
      },
      "source": [
        "print(type(gapminder))"
      ],
      "execution_count": 4,
      "outputs": [
        {
          "output_type": "stream",
          "text": [
            "<class 'pandas.core.frame.DataFrame'>\n"
          ],
          "name": "stdout"
        }
      ]
    },
    {
      "cell_type": "code",
      "metadata": {
        "id": "6R9hmgGQS92b",
        "colab_type": "code",
        "outputId": "fe4bb7a0-f0b7-47bc-f91e-12f18bbc8067",
        "colab": {
          "base_uri": "https://localhost:8080/",
          "height": 402
        }
      },
      "source": [
        "gapminder"
      ],
      "execution_count": 5,
      "outputs": [
        {
          "output_type": "execute_result",
          "data": {
            "text/html": [
              "<div>\n",
              "<style scoped>\n",
              "    .dataframe tbody tr th:only-of-type {\n",
              "        vertical-align: middle;\n",
              "    }\n",
              "\n",
              "    .dataframe tbody tr th {\n",
              "        vertical-align: top;\n",
              "    }\n",
              "\n",
              "    .dataframe thead th {\n",
              "        text-align: right;\n",
              "    }\n",
              "</style>\n",
              "<table border=\"1\" class=\"dataframe\">\n",
              "  <thead>\n",
              "    <tr style=\"text-align: right;\">\n",
              "      <th></th>\n",
              "      <th>country</th>\n",
              "      <th>continent</th>\n",
              "      <th>year</th>\n",
              "      <th>lifeExp</th>\n",
              "      <th>pop</th>\n",
              "      <th>gdpPercap</th>\n",
              "    </tr>\n",
              "  </thead>\n",
              "  <tbody>\n",
              "    <tr>\n",
              "      <th>0</th>\n",
              "      <td>Afghanistan</td>\n",
              "      <td>Asia</td>\n",
              "      <td>1952</td>\n",
              "      <td>28.801</td>\n",
              "      <td>8425333</td>\n",
              "      <td>779.445314</td>\n",
              "    </tr>\n",
              "    <tr>\n",
              "      <th>1</th>\n",
              "      <td>Afghanistan</td>\n",
              "      <td>Asia</td>\n",
              "      <td>1957</td>\n",
              "      <td>30.332</td>\n",
              "      <td>9240934</td>\n",
              "      <td>820.853030</td>\n",
              "    </tr>\n",
              "    <tr>\n",
              "      <th>2</th>\n",
              "      <td>Afghanistan</td>\n",
              "      <td>Asia</td>\n",
              "      <td>1962</td>\n",
              "      <td>31.997</td>\n",
              "      <td>10267083</td>\n",
              "      <td>853.100710</td>\n",
              "    </tr>\n",
              "    <tr>\n",
              "      <th>3</th>\n",
              "      <td>Afghanistan</td>\n",
              "      <td>Asia</td>\n",
              "      <td>1967</td>\n",
              "      <td>34.020</td>\n",
              "      <td>11537966</td>\n",
              "      <td>836.197138</td>\n",
              "    </tr>\n",
              "    <tr>\n",
              "      <th>4</th>\n",
              "      <td>Afghanistan</td>\n",
              "      <td>Asia</td>\n",
              "      <td>1972</td>\n",
              "      <td>36.088</td>\n",
              "      <td>13079460</td>\n",
              "      <td>739.981106</td>\n",
              "    </tr>\n",
              "    <tr>\n",
              "      <th>...</th>\n",
              "      <td>...</td>\n",
              "      <td>...</td>\n",
              "      <td>...</td>\n",
              "      <td>...</td>\n",
              "      <td>...</td>\n",
              "      <td>...</td>\n",
              "    </tr>\n",
              "    <tr>\n",
              "      <th>1699</th>\n",
              "      <td>Zimbabwe</td>\n",
              "      <td>Africa</td>\n",
              "      <td>1987</td>\n",
              "      <td>62.351</td>\n",
              "      <td>9216418</td>\n",
              "      <td>706.157306</td>\n",
              "    </tr>\n",
              "    <tr>\n",
              "      <th>1700</th>\n",
              "      <td>Zimbabwe</td>\n",
              "      <td>Africa</td>\n",
              "      <td>1992</td>\n",
              "      <td>60.377</td>\n",
              "      <td>10704340</td>\n",
              "      <td>693.420786</td>\n",
              "    </tr>\n",
              "    <tr>\n",
              "      <th>1701</th>\n",
              "      <td>Zimbabwe</td>\n",
              "      <td>Africa</td>\n",
              "      <td>1997</td>\n",
              "      <td>46.809</td>\n",
              "      <td>11404948</td>\n",
              "      <td>792.449960</td>\n",
              "    </tr>\n",
              "    <tr>\n",
              "      <th>1702</th>\n",
              "      <td>Zimbabwe</td>\n",
              "      <td>Africa</td>\n",
              "      <td>2002</td>\n",
              "      <td>39.989</td>\n",
              "      <td>11926563</td>\n",
              "      <td>672.038623</td>\n",
              "    </tr>\n",
              "    <tr>\n",
              "      <th>1703</th>\n",
              "      <td>Zimbabwe</td>\n",
              "      <td>Africa</td>\n",
              "      <td>2007</td>\n",
              "      <td>43.487</td>\n",
              "      <td>12311143</td>\n",
              "      <td>469.709298</td>\n",
              "    </tr>\n",
              "  </tbody>\n",
              "</table>\n",
              "<p>1704 rows × 6 columns</p>\n",
              "</div>"
            ],
            "text/plain": [
              "          country continent  year  lifeExp       pop   gdpPercap\n",
              "0     Afghanistan      Asia  1952   28.801   8425333  779.445314\n",
              "1     Afghanistan      Asia  1957   30.332   9240934  820.853030\n",
              "2     Afghanistan      Asia  1962   31.997  10267083  853.100710\n",
              "3     Afghanistan      Asia  1967   34.020  11537966  836.197138\n",
              "4     Afghanistan      Asia  1972   36.088  13079460  739.981106\n",
              "...           ...       ...   ...      ...       ...         ...\n",
              "1699     Zimbabwe    Africa  1987   62.351   9216418  706.157306\n",
              "1700     Zimbabwe    Africa  1992   60.377  10704340  693.420786\n",
              "1701     Zimbabwe    Africa  1997   46.809  11404948  792.449960\n",
              "1702     Zimbabwe    Africa  2002   39.989  11926563  672.038623\n",
              "1703     Zimbabwe    Africa  2007   43.487  12311143  469.709298\n",
              "\n",
              "[1704 rows x 6 columns]"
            ]
          },
          "metadata": {
            "tags": []
          },
          "execution_count": 5
        }
      ]
    },
    {
      "cell_type": "code",
      "metadata": {
        "id": "lUZ-8bWyrbih",
        "colab_type": "code",
        "outputId": "5da7d60b-96e6-460a-b808-379860936949",
        "colab": {
          "base_uri": "https://localhost:8080/",
          "height": 672
        }
      },
      "source": [
        "print(\"the first 5 lines of the dataframe are \\n\" , gapminder.head(), \"\\n\")\n",
        "print(\"the basic statistics of the dataframe are \\n\" , gapminder.describe(), \"\\n\")\n",
        "print(\"the data types of the dataframe are \\n\" , gapminder.dtypes, \"\\n\")\n",
        "print(\"the data types of the dataframe are (plus sparsity) \\n\" , gapminder.ftypes, \"\\n\")"
      ],
      "execution_count": 6,
      "outputs": [
        {
          "output_type": "stream",
          "text": [
            "the first 5 lines of the dataframe are \n",
            "        country continent  year  lifeExp       pop   gdpPercap\n",
            "0  Afghanistan      Asia  1952   28.801   8425333  779.445314\n",
            "1  Afghanistan      Asia  1957   30.332   9240934  820.853030\n",
            "2  Afghanistan      Asia  1962   31.997  10267083  853.100710\n",
            "3  Afghanistan      Asia  1967   34.020  11537966  836.197138\n",
            "4  Afghanistan      Asia  1972   36.088  13079460  739.981106 \n",
            "\n",
            "the basic statistics of the dataframe are \n",
            "              year      lifeExp           pop      gdpPercap\n",
            "count  1704.00000  1704.000000  1.704000e+03    1704.000000\n",
            "mean   1979.50000    59.474439  2.960121e+07    7215.327081\n",
            "std      17.26533    12.917107  1.061579e+08    9857.454543\n",
            "min    1952.00000    23.599000  6.001100e+04     241.165877\n",
            "25%    1965.75000    48.198000  2.793664e+06    1202.060309\n",
            "50%    1979.50000    60.712500  7.023596e+06    3531.846989\n",
            "75%    1993.25000    70.845500  1.958522e+07    9325.462346\n",
            "max    2007.00000    82.603000  1.318683e+09  113523.132900 \n",
            "\n",
            "the data types of the dataframe are \n",
            " country       object\n",
            "continent     object\n",
            "year           int64\n",
            "lifeExp      float64\n",
            "pop            int64\n",
            "gdpPercap    float64\n",
            "dtype: object \n",
            "\n",
            "the data types of the dataframe are (plus sparsity) \n",
            " country       object:dense\n",
            "continent     object:dense\n",
            "year           int64:dense\n",
            "lifeExp      float64:dense\n",
            "pop            int64:dense\n",
            "gdpPercap    float64:dense\n",
            "dtype: object \n",
            "\n"
          ],
          "name": "stdout"
        },
        {
          "output_type": "stream",
          "text": [
            "/usr/local/lib/python3.6/dist-packages/ipykernel_launcher.py:4: FutureWarning: DataFrame.ftypes is deprecated and will be removed in a future version. Use DataFrame.dtypes instead.\n",
            "  after removing the cwd from sys.path.\n"
          ],
          "name": "stderr"
        }
      ]
    },
    {
      "cell_type": "markdown",
      "metadata": {
        "id": "Oe__ZJFu6-EV",
        "colab_type": "text"
      },
      "source": [
        "## Python and errors\n",
        "Python is very expressive.   \n",
        "This means you get loads of text when there is an error or a warning.   \n"
      ]
    },
    {
      "cell_type": "code",
      "metadata": {
        "id": "Dt-cEyoanMFp",
        "colab_type": "code",
        "colab": {}
      },
      "source": [
        "gapminder['continent'] = pd.Categorical(gapminder['continent']) #change continent to categorical\n"
      ],
      "execution_count": 0,
      "outputs": []
    },
    {
      "cell_type": "code",
      "metadata": {
        "id": "KVsqMzhWxPH7",
        "colab_type": "code",
        "colab": {}
      },
      "source": [
        "# graph data\n",
        "for i in gapminder.year.unique(): #for every year in the data make the following graph\n",
        "  fig = plt.figure(figsize=(680/my_dpi, 480/my_dpi), dpi=my_dpi) #create a figure\n",
        "  tmp=gapminder[ gapminder.year == i ] #seperate the data to be graphed\n",
        "  plt.scatter(tmp['lifeExp'], tmp['gdpPercap'] , s=tmp['pop']/200000 , \n",
        "              c=tmp['continent'].cat.codes, cmap=\"Accent\", alpha=0.6, edgecolors=\"white\", linewidth=2) #plot and colors\n",
        "  plt.yscale('log') #set the scale of the y axis to logarythmic\n",
        "  plt.xlabel(\"Life Expectancy\") #set the label of the x axis\n",
        "  plt.ylabel(\"GDP per Capita\") #set the label of the y axis\n",
        "  plt.title(\"Year: \"+str(i) ) #set the title\n",
        "  plt.ylim(0,100000) #set the scale of the y axis\n",
        "  plt.xlim(30, 90) #set the scale of the x axis\n"
      ],
      "execution_count": 0,
      "outputs": []
    },
    {
      "cell_type": "markdown",
      "metadata": {
        "id": "JoIkTzPYzjcc",
        "colab_type": "text"
      },
      "source": [
        "# Uploading data from file\n",
        "\n",
        "Here we will try \n",
        "- From local system\n",
        "- From google sheet\n"
      ]
    },
    {
      "cell_type": "code",
      "metadata": {
        "id": "igbU7QmRSUoh",
        "colab_type": "code",
        "colab": {}
      },
      "source": [
        "gc = gspread.authorize(GoogleCredentials.get_application_default()) #access the google sheets\n",
        "\n",
        "worksheet = gc.open('life_expectancy_years').sheet1 #get access to the specific sheet\n",
        "\n",
        "rows = worksheet.get_all_values()# get_all_values gives a list of rows.\n",
        "\n",
        "df = pd.DataFrame.from_records(rows) #turn the data into a dataframe"
      ],
      "execution_count": 0,
      "outputs": []
    },
    {
      "cell_type": "markdown",
      "metadata": {
        "id": "tYnrJc9L6vZV",
        "colab_type": "text"
      },
      "source": [
        "# Data Wrangling\n",
        "\n",
        "Data are rarely in the correct format or type when loaded. \n",
        "Common corrections that usually need to be done are:\n",
        "- Asigning a row as headers\n",
        "- Correcting the index\n",
        "- Correcting data types\n",
        "- Dealing with NAs or empty cells\n",
        "- ...\n",
        "\n",
        "Note: A good practice would be to pass the original dataset first to a new one (with more apropriate name) so if soemthing goes wrong the original data are unchanged. "
      ]
    },
    {
      "cell_type": "code",
      "metadata": {
        "colab_type": "code",
        "id": "TCayrm19WrBO",
        "colab": {}
      },
      "source": [
        "lifeExpectancy = df"
      ],
      "execution_count": 0,
      "outputs": []
    },
    {
      "cell_type": "code",
      "metadata": {
        "id": "ZFNPlOnbWLwn",
        "colab_type": "code",
        "colab": {}
      },
      "source": [
        "lifeExpectancy = lifeExpectancy.reset_index(drop=True) #reset the index\n",
        "lifeExpectancy.columns = lifeExpectancy.iloc[0] #use the first row as column names\n",
        "lifeExpectancy = lifeExpectancy.drop(lifeExpectancy.index[0]) #delete the first row (the one used for names)\n",
        "lifeExpectancy = lifeExpectancy.reset_index(drop=True) #reset the index"
      ],
      "execution_count": 0,
      "outputs": []
    },
    {
      "cell_type": "code",
      "metadata": {
        "id": "mEro4qfw9vG6",
        "colab_type": "code",
        "colab": {}
      },
      "source": [
        "lifeExpectancy"
      ],
      "execution_count": 0,
      "outputs": []
    },
    {
      "cell_type": "code",
      "metadata": {
        "id": "1U5wEOd3TMmL",
        "colab_type": "code",
        "colab": {}
      },
      "source": [
        "lifeExpectancy['country'] = pd.Categorical(lifeExpectancy['country']) #change country to categorical\n",
        "lifeExpectancy = lifeExpectancy.set_index('country') #set country as index\n",
        "lifeExpectancy = lifeExpectancy.unstack() #unstack the categories created by the new index\n",
        "lifeExpectancy = lifeExpectancy.to_frame().stack(level=0) #stack the dataframe using the first level as columns\n",
        "lifeExpectancy = lifeExpectancy.to_frame().swaplevel() #turn the rows to columns\n",
        "lifeExpectancy.index.names = ['year', 'drop', 'country']\n",
        "lifeExpectancy = lifeExpectancy.droplevel('drop')\n",
        "lifeExpectancy.rename(columns={ lifeExpectancy.columns[0]: \"expectancy\" }, inplace = True)"
      ],
      "execution_count": 0,
      "outputs": []
    },
    {
      "cell_type": "code",
      "metadata": {
        "id": "h-jB46d0WyYq",
        "colab_type": "code",
        "colab": {}
      },
      "source": [
        "lifeExpectancy"
      ],
      "execution_count": 0,
      "outputs": []
    },
    {
      "cell_type": "code",
      "metadata": {
        "id": "IS3watIojPmI",
        "colab_type": "code",
        "colab": {}
      },
      "source": [
        "# uploaded = files.upload() # create field that allows to apload data file and asign it to the uploaded variable (PLEASE only select the file indicated bellow!)\n",
        "# immunization = pd.read_csv(io.BytesIO(uploaded['dtp3_immunized_percent_of_one_year_olds.csv']))"
      ],
      "execution_count": 0,
      "outputs": []
    },
    {
      "cell_type": "code",
      "metadata": {
        "id": "OwyGhsV8-KiO",
        "colab_type": "code",
        "colab": {}
      },
      "source": [
        "gc = gspread.authorize(GoogleCredentials.get_application_default()) #access the google sheets\n",
        "\n",
        "worksheet = gc.open('dtp3_immunized_percent_of_one_year_olds').sheet1 #get access to the specific sheet\n",
        "\n",
        "rows = worksheet.get_all_values()# get_all_values gives a list of rows.\n",
        "\n",
        "immunization = pd.DataFrame.from_records(rows) #turn the data into a dataframe\n"
      ],
      "execution_count": 0,
      "outputs": []
    },
    {
      "cell_type": "code",
      "metadata": {
        "id": "fEhYhdj9-jAO",
        "colab_type": "code",
        "colab": {}
      },
      "source": [
        "immunization"
      ],
      "execution_count": 0,
      "outputs": []
    },
    {
      "cell_type": "code",
      "metadata": {
        "id": "xb3rEAkM3rP7",
        "colab_type": "code",
        "colab": {}
      },
      "source": [
        "immunization = immunization.reset_index(drop=True) #reset the index\n",
        "immunization.columns = immunization.iloc[0] #use the first row as column names\n",
        "immunization = immunization.drop(immunization.index[0]) #delete the first row (the one used for names)\n",
        "immunization = immunization.reset_index(drop=True) #reset the index"
      ],
      "execution_count": 0,
      "outputs": []
    },
    {
      "cell_type": "code",
      "metadata": {
        "id": "vcVBw1YB-knv",
        "colab_type": "code",
        "colab": {}
      },
      "source": [
        "immunization"
      ],
      "execution_count": 0,
      "outputs": []
    },
    {
      "cell_type": "code",
      "metadata": {
        "id": "pJ19FljBuMwW",
        "colab_type": "code",
        "colab": {}
      },
      "source": [
        "immunization['country'] = pd.Categorical(immunization['country']) #change country to categorical\n",
        "immunization = immunization.set_index('country') #set country as index\n",
        "immunization = immunization.unstack() #unstack the categories created by the new index\n",
        "immunization = immunization.to_frame().stack(level=0) #stack the dataframe using the first level as columns\n",
        "immunization = immunization.to_frame().swaplevel() #turn the rows to columns\n",
        "immunization.index.names = ['year', 'drop', 'country']\n",
        "immunization = immunization.droplevel('drop')\n",
        "immunization.rename(columns={ immunization.columns[0]: \"dtp3\" }, inplace = True)"
      ],
      "execution_count": 0,
      "outputs": []
    },
    {
      "cell_type": "code",
      "metadata": {
        "id": "Cz_74_15-z8T",
        "colab_type": "code",
        "colab": {}
      },
      "source": [
        "immunization"
      ],
      "execution_count": 0,
      "outputs": []
    },
    {
      "cell_type": "code",
      "metadata": {
        "id": "u-7tr-9dstqe",
        "colab_type": "code",
        "colab": {}
      },
      "source": [
        "immunization = immunization.reset_index(drop=False) #reset the index"
      ],
      "execution_count": 0,
      "outputs": []
    },
    {
      "cell_type": "code",
      "metadata": {
        "id": "Q3ITTkC32rAg",
        "colab_type": "code",
        "colab": {}
      },
      "source": [
        "immunization"
      ],
      "execution_count": 0,
      "outputs": []
    },
    {
      "cell_type": "code",
      "metadata": {
        "id": "1gzhlKW3ANFq",
        "colab_type": "code",
        "colab": {}
      },
      "source": [
        "demographics = gapminder[['continent', 'country']]"
      ],
      "execution_count": 0,
      "outputs": []
    },
    {
      "cell_type": "code",
      "metadata": {
        "id": "y5Ojo1slGGSI",
        "colab_type": "code",
        "colab": {}
      },
      "source": [
        "data = lifeExpectancy.merge(immunization, how='inner', on=['year', 'country'])\n",
        "data = data.merge(demographics, how='outer', on='country').dropna()"
      ],
      "execution_count": 0,
      "outputs": []
    },
    {
      "cell_type": "code",
      "metadata": {
        "id": "pRcz6-B-BnnV",
        "colab_type": "code",
        "colab": {}
      },
      "source": [
        "data.dtp3 = pd.to_numeric(data.dtp3)\n",
        "data.expectancy = pd.to_numeric(data.expectancy)"
      ],
      "execution_count": 0,
      "outputs": []
    },
    {
      "cell_type": "code",
      "metadata": {
        "id": "qHkVMHWuGFrE",
        "colab_type": "code",
        "outputId": "bd2beca8-29ff-4be0-8ab9-5badbe7693ae",
        "colab": {
          "base_uri": "https://localhost:8080/",
          "height": 370
        }
      },
      "source": [
        "print(data.groupby(['continent']).max()) \n",
        "print(data.groupby(['continent']).expectancy.max() )\n",
        "print(data.groupby(['continent']).dtp3.max() )"
      ],
      "execution_count": 26,
      "outputs": [
        {
          "output_type": "stream",
          "text": [
            "           year         country expectancy dtp3\n",
            "continent                                      \n",
            "Africa     2011        Zimbabwe         77   99\n",
            "Americas   2011       Venezuela       81.5   99\n",
            "Asia       2011         Vietnam       82.9   99\n",
            "Europe     2011  United Kingdom       82.5   99\n",
            "Oceania    2011     New Zealand       82.2   95\n",
            "continent\n",
            "Africa        77\n",
            "Americas    81.5\n",
            "Asia        82.9\n",
            "Europe      82.5\n",
            "Oceania     82.2\n",
            "Name: expectancy, dtype: object\n",
            "continent\n",
            "Africa      99\n",
            "Americas    99\n",
            "Asia        99\n",
            "Europe      99\n",
            "Oceania     95\n",
            "Name: dtp3, dtype: object\n"
          ],
          "name": "stdout"
        }
      ]
    },
    {
      "cell_type": "code",
      "metadata": {
        "id": "2t7Id9FcBhvu",
        "colab_type": "code",
        "colab": {
          "base_uri": "https://localhost:8080/",
          "height": 118
        },
        "outputId": "5138a63e-8449-47b7-9299-a161e28c3df6"
      },
      "source": [
        "data.dtypes"
      ],
      "execution_count": 30,
      "outputs": [
        {
          "output_type": "execute_result",
          "data": {
            "text/plain": [
              "year            object\n",
              "country         object\n",
              "expectancy      object\n",
              "dtp3            object\n",
              "continent     category\n",
              "dtype: object"
            ]
          },
          "metadata": {
            "tags": []
          },
          "execution_count": 30
        }
      ]
    },
    {
      "cell_type": "code",
      "metadata": {
        "id": "O8hpOzfR6I-c",
        "colab_type": "code",
        "outputId": "9376e89a-20b0-4bdb-f3d2-adc0c37390a6",
        "colab": {
          "base_uri": "https://localhost:8080/",
          "height": 1000
        }
      },
      "source": [
        "for continent, temp in data.groupby(['continent']):\n",
        "  print(continent, ':')\n",
        "  print(data.groupby(['country'])['dtp3'].max().rename('max').sort_values(ascending = False).head(2).reset_index(drop=False))\n",
        "  print(data.groupby(['country'])['expectancy'].max().rename('max').sort_values(ascending = True).head(3).reset_index(drop=False))\n",
        "  print(\"max values:\\n\", temp.max(), \"\\n\")\n",
        "  print(\"correlation of life expectancy and immunization to dtp3 is:\\n\", temp['expectancy'].corr(temp['dtp3']), \"\\n\")"
      ],
      "execution_count": 45,
      "outputs": [
        {
          "output_type": "stream",
          "text": [
            "Africa :\n",
            "    country   max\n",
            "0  Zimbabwe  99.0\n",
            "1    Kuwait  99.0\n",
            "                    country   max\n",
            "0  Central African Republic  50.2\n",
            "1                    Malawi  54.5\n",
            "2                   Somalia  55.0\n",
            "max values:\n",
            " year              2011\n",
            "country       Zimbabwe\n",
            "expectancy          77\n",
            "dtp3                99\n",
            "continent       Africa\n",
            "dtype: object \n",
            "\n",
            "correlation of life expectancy and immunization to dtp3 is:\n",
            " 0.44534950306583765 \n",
            "\n",
            "Americas :\n",
            "    country   max\n",
            "0  Zimbabwe  99.0\n",
            "1    Kuwait  99.0\n",
            "                    country   max\n",
            "0  Central African Republic  50.2\n",
            "1                    Malawi  54.5\n",
            "2                   Somalia  55.0\n",
            "max values:\n",
            " year               2011\n",
            "country       Venezuela\n",
            "expectancy         81.5\n",
            "dtp3                 99\n",
            "continent      Americas\n",
            "dtype: object \n",
            "\n",
            "correlation of life expectancy and immunization to dtp3 is:\n",
            " 0.7016344223538111 \n",
            "\n",
            "Asia :\n",
            "    country   max\n",
            "0  Zimbabwe  99.0\n",
            "1    Kuwait  99.0\n",
            "                    country   max\n",
            "0  Central African Republic  50.2\n",
            "1                    Malawi  54.5\n",
            "2                   Somalia  55.0\n",
            "max values:\n",
            " year             2011\n",
            "country       Vietnam\n",
            "expectancy       82.9\n",
            "dtp3               99\n",
            "continent        Asia\n",
            "dtype: object \n",
            "\n",
            "correlation of life expectancy and immunization to dtp3 is:\n",
            " 0.7336662859184576 \n",
            "\n",
            "Europe :\n",
            "    country   max\n",
            "0  Zimbabwe  99.0\n",
            "1    Kuwait  99.0\n",
            "                    country   max\n",
            "0  Central African Republic  50.2\n",
            "1                    Malawi  54.5\n",
            "2                   Somalia  55.0\n",
            "max values:\n",
            " year                    2011\n",
            "country       United Kingdom\n",
            "expectancy              82.5\n",
            "dtp3                      99\n",
            "continent             Europe\n",
            "dtype: object \n",
            "\n",
            "correlation of life expectancy and immunization to dtp3 is:\n",
            " 0.21885652020146942 \n",
            "\n",
            "Oceania :\n",
            "    country   max\n",
            "0  Zimbabwe  99.0\n",
            "1    Kuwait  99.0\n",
            "                    country   max\n",
            "0  Central African Republic  50.2\n",
            "1                    Malawi  54.5\n",
            "2                   Somalia  55.0\n",
            "max values:\n",
            " year                 2011\n",
            "country       New Zealand\n",
            "expectancy           82.2\n",
            "dtp3                   95\n",
            "continent         Oceania\n",
            "dtype: object \n",
            "\n",
            "correlation of life expectancy and immunization to dtp3 is:\n",
            " 0.6744037129422692 \n",
            "\n"
          ],
          "name": "stdout"
        }
      ]
    },
    {
      "cell_type": "code",
      "metadata": {
        "id": "3BNwb-Xx2uqG",
        "colab_type": "code",
        "colab": {}
      },
      "source": [
        ""
      ],
      "execution_count": 0,
      "outputs": []
    },
    {
      "cell_type": "markdown",
      "metadata": {
        "id": "bDTv4X72ra1e",
        "colab_type": "text"
      },
      "source": [
        ""
      ]
    },
    {
      "cell_type": "code",
      "metadata": {
        "id": "NxF78IP3ZVMK",
        "colab_type": "code",
        "colab": {}
      },
      "source": [
        "#TODO Advanced: predict the next year"
      ],
      "execution_count": 0,
      "outputs": []
    },
    {
      "cell_type": "markdown",
      "metadata": {
        "id": "v3XLmcbP66Si",
        "colab_type": "text"
      },
      "source": [
        "# References\n",
        "- [Gapminder Data - Expectancy](http://gapm.io/ilex)\n",
        "- [Gapminder Data - Immunization](https://data.unicef.org/child-health/immunization.html)\n",
        "- [Gapminder data animation tutorial](https://python-graph-gallery.com/341-python-gapminder-animation/)\n",
        "- \n"
      ]
    }
  ]
}