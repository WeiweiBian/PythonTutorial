{
  "nbformat": 4,
  "nbformat_minor": 0,
  "metadata": {
    "colab": {
      "name": "KarolinskaTutorial.ipynb",
      "provenance": [],
      "collapsed_sections": [],
      "include_colab_link": true
    },
    "kernelspec": {
      "name": "python3",
      "display_name": "Python 3"
    }
  },
  "cells": [
    {
      "cell_type": "markdown",
      "metadata": {
        "id": "view-in-github",
        "colab_type": "text"
      },
      "source": [
        "<a href=\"https://colab.research.google.com/github/mnikolop/PythonTutorial/blob/master/KarolinskaTutorial.ipynb\" target=\"_parent\"><img src=\"https://colab.research.google.com/assets/colab-badge.svg\" alt=\"Open In Colab\"/></a>"
      ]
    },
    {
      "cell_type": "markdown",
      "metadata": {
        "id": "qqwddAks3rvN",
        "colab_type": "text"
      },
      "source": [
        "# Python \n",
        "\n",
        "Python is an interpreted, high-level, general-purpose programming language.    \n",
        "Can be used for almost anything.   \n",
        "We are using it for data analysis.    \n",
        "Main library used in data analysis is pandas.   \n",
        "There used to be 2 version python2 (or python) and python 3. Since January 1st Python 2 has been depricated so we are only using python 3.\n",
        "\n",
        "## Main Resource\n",
        "- [python](https://www.python.org/)\n",
        "- [stackoverflow](https://stackoverflow.com/)\n",
        "- [pandas documentation](https://pandas.pydata.org/pandas-docs/stable/)\n",
        "\n",
        "## Editors\n",
        "\n",
        "Editors can be IDEs, text editors or notbooks.\n",
        "- [Anaconda]: deployment environment\n",
        "  - [Jupyter]: notebook\n",
        "- [VS Code]: text editor\n",
        "- [PyCharm]: IDE\n",
        "- [Google Colab]: notebook\n",
        "\n",
        "\n",
        "\n",
        "\n"
      ]
    },
    {
      "cell_type": "markdown",
      "metadata": {
        "id": "gkxxrL_SRLLF",
        "colab_type": "text"
      },
      "source": [
        "# Libraries\n",
        "Libraries can contain datasets, tools, graphics, processes, functions and so on.\n",
        "They are basically what makes a langiage powerfull.\n",
        "\n",
        "A lot of the libraries come preinstaled in the environments so we can just load them. If they are not we have to install them like below.\n",
        "\n",
        "\n",
        "/note Note: it is possible but not common that libraries have (slightly) different names for anaconda, only exist for anaconda or don't exist for it. note/\n",
        "\n",
        "---\n",
        "\n",
        "It is possible to run command lines from a notebook.\n",
        "Some notebooks also allow other languages to be mixed in as long as they are in seperate cells and you specify the language (and of course it is suported)."
      ]
    },
    {
      "cell_type": "code",
      "metadata": {
        "id": "ZgrlPDQskW-y",
        "colab_type": "code",
        "colab": {}
      },
      "source": [
        "# Install libraries\n",
        "!pip install gapminder\n",
        "!pip install -U -q PyDrive"
      ],
      "execution_count": 0,
      "outputs": []
    },
    {
      "cell_type": "code",
      "metadata": {
        "id": "2j0WhVjJdF0a",
        "colab_type": "code",
        "colab": {}
      },
      "source": [
        "#Import libraries\n",
        "import numpy as np #basic scientific computation \n",
        "import pandas as pd #for data science\n",
        "from gapminder import gapminder #dataset\n",
        "import matplotlib.pyplot as plt #ploting \n",
        "import seaborn as sns; sns.set_style(\"darkgrid\") #ploting\n",
        "my_dpi=96 #dots per inch. Used in the size of the plots\n",
        "\n"
      ],
      "execution_count": 0,
      "outputs": []
    },
    {
      "cell_type": "markdown",
      "metadata": {
        "id": "lOSgm9cHk4jp",
        "colab_type": "text"
      },
      "source": [
        "# Datasets\n",
        "Data frames are sets of data in a \"table\" format. \n",
        "They come with a multitude of operations and functions they can be performed on them.\n",
        "\n",
        "## Loading datasets\n",
        "- Library\n",
        "- Sample dataset\n",
        "- File\n",
        "- Online\n",
        "\n",
        "---\n",
        "\n",
        "One of the libraries above is a dataset, and the other comes with a few test datasets.\n",
        "\n",
        "---\n",
        "\n",
        "Since we have our dataset in pandas format we can get simple stats on the contents.\n"
      ]
    },
    {
      "cell_type": "code",
      "metadata": {
        "id": "xFoExlJs463x",
        "colab_type": "code",
        "colab": {
          "base_uri": "https://localhost:8080/",
          "height": 34
        },
        "outputId": "3a8b1169-5db4-4de4-e825-d66eb1dbcf51"
      },
      "source": [
        "print(type(gapminder))"
      ],
      "execution_count": 9,
      "outputs": [
        {
          "output_type": "stream",
          "text": [
            "<class 'pandas.core.frame.DataFrame'>\n"
          ],
          "name": "stdout"
        }
      ]
    },
    {
      "cell_type": "code",
      "metadata": {
        "id": "lUZ-8bWyrbih",
        "colab_type": "code",
        "colab": {}
      },
      "source": [
        "print(\"the first 5 lines of the dataframe are \\n\" , gapminder.head(), \"\\n\")\n",
        "print(\"the basic statistics of the dataframe are \\n\" , gapminder.describe(), \"\\n\")\n",
        "print(\"the data types of the dataframe are \\n\" , gapminder.dtypes, \"\\n\")\n",
        "print(\"the data types of the dataframe are (plus sparsity) \\n\" , gapminder.ftypes, \"\\n\")"
      ],
      "execution_count": 0,
      "outputs": []
    },
    {
      "cell_type": "markdown",
      "metadata": {
        "id": "tYnrJc9L6vZV",
        "colab_type": "text"
      },
      "source": [
        "# Data Wrangling\n",
        "We can see that our dates have been asigned the wrong data type and that might cause some issues so we need to fix that.   \n",
        "- First we pass the data to a clean dataframe so we can revert to the original without having to load it formscratch again.   \n",
        "- Then we fix the date type.\n",
        "- And last we fix the continents to categorical."
      ]
    },
    {
      "cell_type": "code",
      "metadata": {
        "id": "tOnSg_YtykrK",
        "colab_type": "code",
        "colab": {}
      },
      "source": [
        "df = gapminder \n",
        "df.year = pd.to_datetime(df.year, format='%Y').dt.year\n",
        "df['continent']=pd.Categorical(df['continent'])"
      ],
      "execution_count": 0,
      "outputs": []
    },
    {
      "cell_type": "code",
      "metadata": {
        "id": "sVbABJJmyrdP",
        "colab_type": "code",
        "colab": {}
      },
      "source": [
        "df.head() "
      ],
      "execution_count": 0,
      "outputs": []
    },
    {
      "cell_type": "code",
      "metadata": {
        "id": "KVsqMzhWxPH7",
        "colab_type": "code",
        "colab": {}
      },
      "source": [
        "# graph data\n",
        "for i in df.year.unique(): #for every year in the data make the following graph\n",
        "  fig = plt.figure(figsize=(680/my_dpi, 480/my_dpi), dpi=my_dpi) #create a figure\n",
        "  tmp=df[ df.year == i ] #seperate the data to be graphed\n",
        "  plt.scatter(tmp['lifeExp'], tmp['gdpPercap'] , s=tmp['pop']/200000 , \n",
        "              c=tmp['continent'].cat.codes, cmap=\"Accent\", alpha=0.6, edgecolors=\"white\", linewidth=2) #plot and colors\n",
        "  plt.yscale('log') #set the scale of the y axis to logarythmic\n",
        "  plt.xlabel(\"Life Expectancy\") #set the label of the x axis\n",
        "  plt.ylabel(\"GDP per Capita\") #set the label of the y axis\n",
        "  plt.title(\"Year: \"+str(i) ) #set the title\n",
        "  plt.ylim(0,100000) #set the scale of the y axis\n",
        "  plt.xlim(30, 90) #set the scale of the x axis\n"
      ],
      "execution_count": 0,
      "outputs": []
    },
    {
      "cell_type": "markdown",
      "metadata": {
        "id": "JoIkTzPYzjcc",
        "colab_type": "text"
      },
      "source": [
        "# Uploading data from file\n",
        "\n",
        "Here we will try \n",
        "- From local system\n",
        "- From google sheet\n"
      ]
    },
    {
      "cell_type": "code",
      "metadata": {
        "id": "IS3watIojPmI",
        "colab_type": "code",
        "colab": {}
      },
      "source": [
        "import io\n",
        "\n",
        "uploaded = files.upload()\n",
        "imunization = pd.read_csv(io.BytesIO(uploaded['dtp3_immunized_percent_of_one_year_olds.csv']))\n"
      ],
      "execution_count": 0,
      "outputs": []
    },
    {
      "cell_type": "code",
      "metadata": {
        "id": "1a08qgTI9bkn",
        "colab_type": "code",
        "colab": {}
      },
      "source": [
        "#Libraries for reading from the drive\n",
        "from pydrive.auth import GoogleAuth\n",
        "from pydrive.drive import GoogleDrive\n",
        "from google.colab import auth\n",
        "from google.colab import files\n",
        "import gspread\n",
        "from oauth2client.client import GoogleCredentials\n",
        "\n",
        "# Authenticate and create the PyDrive client.\n",
        "auth.authenticate_user()\n",
        "gauth = GoogleAuth()\n",
        "gauth.credentials = GoogleCredentials.get_application_default()\n",
        "drive = GoogleDrive(gauth)"
      ],
      "execution_count": 0,
      "outputs": []
    },
    {
      "cell_type": "code",
      "metadata": {
        "id": "xb3rEAkM3rP7",
        "colab_type": "code",
        "colab": {}
      },
      "source": [
        "\n",
        "gc = gspread.authorize(GoogleCredentials.get_application_default())\n",
        "\n",
        "worksheet = gc.open('dtp3_immunized_percent_of_one_year_olds').sheet1\n",
        "\n",
        "# get_all_values gives a list of rows.\n",
        "rows = worksheet.get_all_values()\n",
        "\n",
        "imunization = pd.DataFrame.from_records(rows)"
      ],
      "execution_count": 0,
      "outputs": []
    },
    {
      "cell_type": "code",
      "metadata": {
        "id": "Mdekvldiyl6p",
        "colab_type": "code",
        "colab": {}
      },
      "source": [
        "# TODO do some filter combinations and stuff"
      ],
      "execution_count": 0,
      "outputs": []
    },
    {
      "cell_type": "code",
      "metadata": {
        "id": "Z6ZALlLfycbp",
        "colab_type": "code",
        "colab": {}
      },
      "source": [
        "# TODO graph data together"
      ],
      "execution_count": 0,
      "outputs": []
    },
    {
      "cell_type": "code",
      "metadata": {
        "id": "AQ5RjcW_v4Pu",
        "colab_type": "code",
        "colab": {}
      },
      "source": [
        ""
      ],
      "execution_count": 0,
      "outputs": []
    },
    {
      "cell_type": "markdown",
      "metadata": {
        "id": "bDTv4X72ra1e",
        "colab_type": "text"
      },
      "source": [
        ""
      ]
    },
    {
      "cell_type": "code",
      "metadata": {
        "id": "NxF78IP3ZVMK",
        "colab_type": "code",
        "colab": {}
      },
      "source": [
        ""
      ],
      "execution_count": 0,
      "outputs": []
    },
    {
      "cell_type": "markdown",
      "metadata": {
        "id": "v3XLmcbP66Si",
        "colab_type": "text"
      },
      "source": [
        "# References\n",
        "- [Gapminder]\n",
        "- https://python-graph-gallery.com/341-python-gapminder-animation/\n",
        "- \n"
      ]
    }
  ]
}