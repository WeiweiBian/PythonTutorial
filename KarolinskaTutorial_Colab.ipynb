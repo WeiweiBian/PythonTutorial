{
  "nbformat": 4,
  "nbformat_minor": 0,
  "metadata": {
    "colab": {
      "name": "KarolinskaTutorial-Colab.ipynb",
      "provenance": [],
      "collapsed_sections": [],
      "include_colab_link": true
    },
    "kernelspec": {
      "name": "python3",
      "display_name": "Python 3"
    }
  },
  "cells": [
    {
      "cell_type": "markdown",
      "metadata": {
        "id": "view-in-github",
        "colab_type": "text"
      },
      "source": [
        "<a href=\"https://colab.research.google.com/github/mnikolop/PythonTutorial/blob/master/KarolinskaTutorial_Colab.ipynb\" target=\"_parent\"><img src=\"https://colab.research.google.com/assets/colab-badge.svg\" alt=\"Open In Colab\"/></a>"
      ]
    },
    {
      "cell_type": "markdown",
      "metadata": {
        "id": "qqwddAks3rvN",
        "colab_type": "text"
      },
      "source": [
        "# Python \n",
        "\n",
        "Python is an interpreted, high-level, general-purpose programming language.    \n",
        "Can be used for almost anything.   \n",
        "We are using it for data analysis.    \n",
        "Main library used in data analysis is pandas.   \n",
        "There used to be 2 version python2 (or python) and python 3. Since January 1st Python 2 has been depricated so we are only using python 3.\n",
        "\n",
        "## Main Resource\n",
        "- [python](https://www.python.org/)\n",
        "- [stackoverflow](https://stackoverflow.com/)\n",
        "- [pandas documentation](https://pandas.pydata.org/pandas-docs/stable/)\n",
        "- [toward data science](https://towardsdatascience.com/)\n",
        "\n",
        "## Editors\n",
        "\n",
        "Editors can be IDEs, text editors or notbooks.\n",
        "- [Anaconda]: deployment environment\n",
        "  - [Jupyter]: notebook\n",
        "- [VS Code]: text editor\n",
        "- [PyCharm]: IDE\n",
        "- [Google Colab]: notebook\n",
        "\n",
        "\n",
        "\n",
        "\n"
      ]
    },
    {
      "cell_type": "markdown",
      "metadata": {
        "id": "gkxxrL_SRLLF",
        "colab_type": "text"
      },
      "source": [
        "# Libraries\n",
        "Libraries can contain datasets, tools, graphics, processes, functions and so on.\n",
        "They are basically what makes a langiage powerfull.\n",
        "\n",
        "A lot of the libraries come preinstaled in the environments so we can just load them. If they are not we have to install them like below.\n",
        "\n",
        "\n",
        "/note Note: it is possible but not common that libraries have (slightly) different names for anaconda, only exist for anaconda or don't exist for it. note/\n",
        "\n",
        "---\n",
        "\n",
        "It is possible to run command lines from a notebook.\n",
        "Some notebooks also allow other languages to be mixed in as long as they are in seperate cells and you specify the language (and of course it is suported)."
      ]
    },
    {
      "cell_type": "code",
      "metadata": {
        "id": "ZgrlPDQskW-y",
        "colab_type": "code",
        "outputId": "5f6a4348-8b90-4549-80bb-9b2cc49fb3ec",
        "colab": {
          "base_uri": "https://localhost:8080/",
          "height": 118
        }
      },
      "source": [
        "# Install libraries\n",
        "!pip install gapminder\n",
        "!pip install -U -q PyDrive"
      ],
      "execution_count": 0,
      "outputs": [
        {
          "output_type": "stream",
          "text": [
            "Requirement already satisfied: gapminder in /usr/local/lib/python3.6/dist-packages (0.1)\n",
            "Requirement already satisfied: pandas in /usr/local/lib/python3.6/dist-packages (from gapminder) (0.25.3)\n",
            "Requirement already satisfied: numpy>=1.13.3 in /usr/local/lib/python3.6/dist-packages (from pandas->gapminder) (1.17.4)\n",
            "Requirement already satisfied: python-dateutil>=2.6.1 in /usr/local/lib/python3.6/dist-packages (from pandas->gapminder) (2.6.1)\n",
            "Requirement already satisfied: pytz>=2017.2 in /usr/local/lib/python3.6/dist-packages (from pandas->gapminder) (2018.9)\n",
            "Requirement already satisfied: six>=1.5 in /usr/local/lib/python3.6/dist-packages (from python-dateutil>=2.6.1->pandas->gapminder) (1.12.0)\n"
          ],
          "name": "stdout"
        }
      ]
    },
    {
      "cell_type": "code",
      "metadata": {
        "id": "2j0WhVjJdF0a",
        "colab_type": "code",
        "colab": {}
      },
      "source": [
        "#Import libraries\n",
        "import numpy as np #basic scientific computation \n",
        "import pandas as pd #for data science\n",
        "from gapminder import gapminder #dataset\n",
        "import matplotlib.pyplot as plt #ploting \n",
        "import seaborn as sns; sns.set_style(\"darkgrid\") #ploting\n",
        "my_dpi=96 #dots per inch. Used in the size of the plots\n",
        "\n",
        "\n",
        "#Libraries for reading from the drive\n",
        "from pydrive.auth import GoogleAuth #Google authwntication library\n",
        "from pydrive.drive import GoogleDrive #Google drive library\n",
        "from google.colab import auth #Google colab auth library\n",
        "from google.colab import files #Google colab filesystem library\n",
        "import gspread #google sheets library \n",
        "from oauth2client.client import GoogleCredentials #Google credentials library\n",
        "import io #google io library\n",
        "\n",
        "# Authenticate and create the PyDrive client.\n",
        "auth.authenticate_user() #creat the authenticated user\n",
        "gauth = GoogleAuth() #create the authentication\n",
        "gauth.credentials = GoogleCredentials.get_application_default() #assign credentials\n",
        "drive = GoogleDrive(gauth) #set authentication"
      ],
      "execution_count": 0,
      "outputs": []
    },
    {
      "cell_type": "markdown",
      "metadata": {
        "id": "lOSgm9cHk4jp",
        "colab_type": "text"
      },
      "source": [
        "# Datasets\n",
        "Data frames are sets of data in a \"table\" format. \n",
        "They come with a multitude of operations and functions they can be performed on them.\n",
        "\n",
        "## Loading datasets\n",
        "- Library\n",
        "- Sample dataset\n",
        "- File\n",
        "- Online\n",
        "\n",
        "---\n",
        "\n",
        "One of the libraries above is a dataset, and the other comes with a few test datasets.\n",
        "\n",
        "---\n",
        "\n",
        "Since we have our dataset in pandas format we can get simple stats on the contents.\n"
      ]
    },
    {
      "cell_type": "code",
      "metadata": {
        "id": "xFoExlJs463x",
        "colab_type": "code",
        "colab": {}
      },
      "source": [
        "print(type(gapminder))"
      ],
      "execution_count": 0,
      "outputs": []
    },
    {
      "cell_type": "code",
      "metadata": {
        "id": "6R9hmgGQS92b",
        "colab_type": "code",
        "colab": {}
      },
      "source": [
        "gapminder"
      ],
      "execution_count": 0,
      "outputs": []
    },
    {
      "cell_type": "code",
      "metadata": {
        "id": "lUZ-8bWyrbih",
        "colab_type": "code",
        "colab": {}
      },
      "source": [
        "print(\"the first 5 lines of the dataframe are \\n\" , gapminder.head(), \"\\n\")\n",
        "print(\"the basic statistics of the dataframe are \\n\" , gapminder.describe(), \"\\n\")\n",
        "print(\"the data types of the dataframe are \\n\" , gapminder.dtypes, \"\\n\")\n",
        "print(\"the data types of the dataframe are (plus sparsity) \\n\" , gapminder.ftypes, \"\\n\")"
      ],
      "execution_count": 0,
      "outputs": []
    },
    {
      "cell_type": "code",
      "metadata": {
        "id": "Dt-cEyoanMFp",
        "colab_type": "code",
        "colab": {}
      },
      "source": [
        "gapminder['continent'] = pd.Categorical(gapminder['continent']) #change continent to categorical\n"
      ],
      "execution_count": 0,
      "outputs": []
    },
    {
      "cell_type": "code",
      "metadata": {
        "id": "KVsqMzhWxPH7",
        "colab_type": "code",
        "colab": {}
      },
      "source": [
        "# graph data\n",
        "for i in gapminder.year.unique(): #for every year in the data make the following graph\n",
        "  fig = plt.figure(figsize=(680/my_dpi, 480/my_dpi), dpi=my_dpi) #create a figure\n",
        "  tmp=gapminder[ gapminder.year == i ] #seperate the data to be graphed\n",
        "  plt.scatter(tmp['lifeExp'], tmp['gdpPercap'] , s=tmp['pop']/200000 , \n",
        "              c=tmp['continent'].cat.codes, cmap=\"Accent\", alpha=0.6, edgecolors=\"white\", linewidth=2) #plot and colors\n",
        "  plt.yscale('log') #set the scale of the y axis to logarythmic\n",
        "  plt.xlabel(\"Life Expectancy\") #set the label of the x axis\n",
        "  plt.ylabel(\"GDP per Capita\") #set the label of the y axis\n",
        "  plt.title(\"Year: \"+str(i) ) #set the title\n",
        "  plt.ylim(0,100000) #set the scale of the y axis\n",
        "  plt.xlim(30, 90) #set the scale of the x axis\n"
      ],
      "execution_count": 0,
      "outputs": []
    },
    {
      "cell_type": "markdown",
      "metadata": {
        "id": "JoIkTzPYzjcc",
        "colab_type": "text"
      },
      "source": [
        "# Uploading data from file\n",
        "\n",
        "Here we will try \n",
        "- From local system\n",
        "- From google sheet\n"
      ]
    },
    {
      "cell_type": "code",
      "metadata": {
        "id": "igbU7QmRSUoh",
        "colab_type": "code",
        "colab": {}
      },
      "source": [
        "gc = gspread.authorize(GoogleCredentials.get_application_default()) #access the google sheets\n",
        "\n",
        "worksheet = gc.open('life_expectancy_years').sheet1 #get access to the specific sheet\n",
        "\n",
        "rows = worksheet.get_all_values()# get_all_values gives a list of rows.\n",
        "\n",
        "df = pd.DataFrame.from_records(rows) #turn the data into a dataframe"
      ],
      "execution_count": 0,
      "outputs": []
    },
    {
      "cell_type": "markdown",
      "metadata": {
        "id": "tYnrJc9L6vZV",
        "colab_type": "text"
      },
      "source": [
        "# Data Wrangling\n",
        "We can see that our dates have been asigned the wrong data type and that might cause some issues so we need to fix that.   \n",
        "Note: First we pass the data to a clean dataframe so we can revert to the original "
      ]
    },
    {
      "cell_type": "code",
      "metadata": {
        "id": "ZFNPlOnbWLwn",
        "colab_type": "code",
        "colab": {}
      },
      "source": [
        "df = df.reset_index(drop=True) #reset the index\n",
        "df.columns = df.iloc[0] #use the first row as column names\n",
        "df = df.drop(df.index[0]) #delete the first row (the one used for names)\n",
        "df = df.reset_index(drop=True) #reset the index"
      ],
      "execution_count": 0,
      "outputs": []
    },
    {
      "cell_type": "code",
      "metadata": {
        "id": "1U5wEOd3TMmL",
        "colab_type": "code",
        "colab": {}
      },
      "source": [
        "df['country'] = pd.Categorical(df['country']) #change country to categorical\n",
        "df = df.set_index('country') #set country as index\n",
        "df = df.unstack() #unstack the categories created by the new index\n",
        "df = df.to_frame().stack(level=0) #stack the dataframe using the first level as columns\n",
        "df = df.to_frame().swaplevel() #turn the rows to columns\n",
        "df.index.names = ['year', 'drop', 'country']\n",
        "df = df.droplevel('drop')\n",
        "df.rename(columns={ df.columns[0]: \"expectancy\" }, inplace = True)"
      ],
      "execution_count": 0,
      "outputs": []
    },
    {
      "cell_type": "code",
      "metadata": {
        "id": "h-jB46d0WyYq",
        "colab_type": "code",
        "colab": {}
      },
      "source": [
        "df"
      ],
      "execution_count": 0,
      "outputs": []
    },
    {
      "cell_type": "code",
      "metadata": {
        "id": "IS3watIojPmI",
        "colab_type": "code",
        "colab": {}
      },
      "source": [
        "# uploaded = files.upload()\n",
        "# immunization = pd.read_csv(io.BytesIO(uploaded['dtp3_immunized_percent_of_one_year_olds.csv']))"
      ],
      "execution_count": 0,
      "outputs": []
    },
    {
      "cell_type": "code",
      "metadata": {
        "id": "xb3rEAkM3rP7",
        "colab_type": "code",
        "colab": {}
      },
      "source": [
        "gc = gspread.authorize(GoogleCredentials.get_application_default()) #access the google sheets\n",
        "\n",
        "worksheet = gc.open('dtp3_immunized_percent_of_one_year_olds').sheet1 #get access to the specific sheet\n",
        "\n",
        "rows = worksheet.get_all_values()# get_all_values gives a list of rows.\n",
        "\n",
        "immunization = pd.DataFrame.from_records(rows) #turn the data into a dataframe\n",
        "\n",
        "immunization = immunization.reset_index(drop=True) #reset the index\n",
        "immunization.columns = immunization.iloc[0] #use the first row as column names\n",
        "immunization = immunization.drop(immunization.index[0]) #delete the first row (the one used for names)\n",
        "immunization = immunization.reset_index(drop=True) #reset the index"
      ],
      "execution_count": 0,
      "outputs": []
    },
    {
      "cell_type": "code",
      "metadata": {
        "id": "pJ19FljBuMwW",
        "colab_type": "code",
        "colab": {}
      },
      "source": [
        "immunization['country'] = pd.Categorical(immunization['country']) #change country to categorical\n",
        "immunization = immunization.set_index('country') #set country as index\n",
        "immunization = immunization.unstack() #unstack the categories created by the new index\n",
        "immunization = immunization.to_frame().stack(level=0) #stack the dataframe using the first level as columns\n",
        "immunization = immunization.to_frame().swaplevel() #turn the rows to columns\n",
        "immunization.index.names = ['year', 'drop', 'country']\n",
        "immunization = immunization.droplevel('drop')\n",
        "immunization.rename(columns={ immunization.columns[0]: \"dtp3\" }, inplace = True)"
      ],
      "execution_count": 0,
      "outputs": []
    },
    {
      "cell_type": "code",
      "metadata": {
        "id": "u-7tr-9dstqe",
        "colab_type": "code",
        "colab": {}
      },
      "source": [
        "immunization = immunization.reset_index(drop=False) #reset the index"
      ],
      "execution_count": 0,
      "outputs": []
    },
    {
      "cell_type": "code",
      "metadata": {
        "id": "Q3ITTkC32rAg",
        "colab_type": "code",
        "colab": {}
      },
      "source": [
        "immunization"
      ],
      "execution_count": 0,
      "outputs": []
    },
    {
      "cell_type": "code",
      "metadata": {
        "colab_type": "code",
        "id": "TCayrm19WrBO",
        "colab": {}
      },
      "source": [
        "lifeExpectancy = df"
      ],
      "execution_count": 0,
      "outputs": []
    },
    {
      "cell_type": "code",
      "metadata": {
        "id": "y5Ojo1slGGSI",
        "colab_type": "code",
        "colab": {}
      },
      "source": [
        "data = lifeExpectancy.merge(immunization, how='inner', on=['year', 'country'])\n",
        "demographics = gapminder[['continent', 'country']]\n",
        "data = data.merge(demographics, how='outer', on='country').dropna()"
      ],
      "execution_count": 0,
      "outputs": []
    },
    {
      "cell_type": "code",
      "metadata": {
        "id": "qHkVMHWuGFrE",
        "colab_type": "code",
        "colab": {}
      },
      "source": [
        "data.groupby(['continent']).max() #Find the min/max immunization per continent\n"
      ],
      "execution_count": 0,
      "outputs": []
    },
    {
      "cell_type": "code",
      "metadata": {
        "id": "O8hpOzfR6I-c",
        "colab_type": "code",
        "colab": {}
      },
      "source": [
        "print(data.groupby(['continent']).expectancy.max() )\n",
        "print(data.groupby(['continent']).dtp3.max() )"
      ],
      "execution_count": 0,
      "outputs": []
    },
    {
      "cell_type": "markdown",
      "metadata": {
        "id": "bDTv4X72ra1e",
        "colab_type": "text"
      },
      "source": [
        ""
      ]
    },
    {
      "cell_type": "code",
      "metadata": {
        "id": "NxF78IP3ZVMK",
        "colab_type": "code",
        "colab": {}
      },
      "source": [
        "#TODO Advanced: predict the next year"
      ],
      "execution_count": 0,
      "outputs": []
    },
    {
      "cell_type": "markdown",
      "metadata": {
        "id": "v3XLmcbP66Si",
        "colab_type": "text"
      },
      "source": [
        "# References\n",
        "- [Gapminder Data - Expectancy](http://gapm.io/ilex)\n",
        "- [Gapminder Data - Immunization](https://data.unicef.org/child-health/immunization.html)\n",
        "- [Gapminder data animation tutorial](https://python-graph-gallery.com/341-python-gapminder-animation/)\n",
        "- \n"
      ]
    }
  ]
}